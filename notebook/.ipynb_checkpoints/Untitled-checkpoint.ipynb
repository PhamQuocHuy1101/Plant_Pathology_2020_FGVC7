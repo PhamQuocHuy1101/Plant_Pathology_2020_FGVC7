{
 "cells": [
  {
   "cell_type": "code",
   "execution_count": 1,
   "id": "0285f7f1",
   "metadata": {},
   "outputs": [],
   "source": [
    "import cv2\n",
    "from PIL import Image\n",
    "import pandas as pd\n",
    "import os\n",
    "import numpy as np\n",
    "import matplotlib.pyplot as plt"
   ]
  },
  {
   "cell_type": "code",
   "execution_count": 2,
   "id": "a37ad3c7",
   "metadata": {},
   "outputs": [
    {
     "data": {
      "text/html": [
       "<div>\n",
       "<style scoped>\n",
       "    .dataframe tbody tr th:only-of-type {\n",
       "        vertical-align: middle;\n",
       "    }\n",
       "\n",
       "    .dataframe tbody tr th {\n",
       "        vertical-align: top;\n",
       "    }\n",
       "\n",
       "    .dataframe thead th {\n",
       "        text-align: right;\n",
       "    }\n",
       "</style>\n",
       "<table border=\"1\" class=\"dataframe\">\n",
       "  <thead>\n",
       "    <tr style=\"text-align: right;\">\n",
       "      <th></th>\n",
       "      <th>image_id</th>\n",
       "      <th>healthy</th>\n",
       "      <th>multiple_diseases</th>\n",
       "      <th>rust</th>\n",
       "      <th>scab</th>\n",
       "    </tr>\n",
       "  </thead>\n",
       "  <tbody>\n",
       "    <tr>\n",
       "      <th>0</th>\n",
       "      <td>Train_0</td>\n",
       "      <td>0</td>\n",
       "      <td>0</td>\n",
       "      <td>0</td>\n",
       "      <td>1</td>\n",
       "    </tr>\n",
       "    <tr>\n",
       "      <th>1</th>\n",
       "      <td>Train_1</td>\n",
       "      <td>0</td>\n",
       "      <td>1</td>\n",
       "      <td>0</td>\n",
       "      <td>0</td>\n",
       "    </tr>\n",
       "    <tr>\n",
       "      <th>2</th>\n",
       "      <td>Train_2</td>\n",
       "      <td>1</td>\n",
       "      <td>0</td>\n",
       "      <td>0</td>\n",
       "      <td>0</td>\n",
       "    </tr>\n",
       "    <tr>\n",
       "      <th>3</th>\n",
       "      <td>Train_3</td>\n",
       "      <td>0</td>\n",
       "      <td>0</td>\n",
       "      <td>1</td>\n",
       "      <td>0</td>\n",
       "    </tr>\n",
       "    <tr>\n",
       "      <th>4</th>\n",
       "      <td>Train_4</td>\n",
       "      <td>1</td>\n",
       "      <td>0</td>\n",
       "      <td>0</td>\n",
       "      <td>0</td>\n",
       "    </tr>\n",
       "  </tbody>\n",
       "</table>\n",
       "</div>"
      ],
      "text/plain": [
       "  image_id  healthy  multiple_diseases  rust  scab\n",
       "0  Train_0        0                  0     0     1\n",
       "1  Train_1        0                  1     0     0\n",
       "2  Train_2        1                  0     0     0\n",
       "3  Train_3        0                  0     1     0\n",
       "4  Train_4        1                  0     0     0"
      ]
     },
     "execution_count": 2,
     "metadata": {},
     "output_type": "execute_result"
    }
   ],
   "source": [
    "train_csv_path = './train.csv'\n",
    "train_info = pd.read_csv(train_csv_path)\n",
    "train_info.head()"
   ]
  },
  {
   "cell_type": "code",
   "execution_count": 3,
   "id": "b899d950",
   "metadata": {},
   "outputs": [
    {
     "data": {
      "text/html": [
       "<div>\n",
       "<style scoped>\n",
       "    .dataframe tbody tr th:only-of-type {\n",
       "        vertical-align: middle;\n",
       "    }\n",
       "\n",
       "    .dataframe tbody tr th {\n",
       "        vertical-align: top;\n",
       "    }\n",
       "\n",
       "    .dataframe thead th {\n",
       "        text-align: right;\n",
       "    }\n",
       "</style>\n",
       "<table border=\"1\" class=\"dataframe\">\n",
       "  <thead>\n",
       "    <tr style=\"text-align: right;\">\n",
       "      <th></th>\n",
       "      <th>healthy</th>\n",
       "      <th>multiple_diseases</th>\n",
       "      <th>rust</th>\n",
       "      <th>scab</th>\n",
       "    </tr>\n",
       "  </thead>\n",
       "  <tbody>\n",
       "    <tr>\n",
       "      <th>count</th>\n",
       "      <td>1821.000000</td>\n",
       "      <td>1821.000000</td>\n",
       "      <td>1821.000000</td>\n",
       "      <td>1821.000000</td>\n",
       "    </tr>\n",
       "    <tr>\n",
       "      <th>mean</th>\n",
       "      <td>0.283361</td>\n",
       "      <td>0.049973</td>\n",
       "      <td>0.341571</td>\n",
       "      <td>0.325096</td>\n",
       "    </tr>\n",
       "    <tr>\n",
       "      <th>std</th>\n",
       "      <td>0.450754</td>\n",
       "      <td>0.217948</td>\n",
       "      <td>0.474367</td>\n",
       "      <td>0.468539</td>\n",
       "    </tr>\n",
       "    <tr>\n",
       "      <th>min</th>\n",
       "      <td>0.000000</td>\n",
       "      <td>0.000000</td>\n",
       "      <td>0.000000</td>\n",
       "      <td>0.000000</td>\n",
       "    </tr>\n",
       "    <tr>\n",
       "      <th>25%</th>\n",
       "      <td>0.000000</td>\n",
       "      <td>0.000000</td>\n",
       "      <td>0.000000</td>\n",
       "      <td>0.000000</td>\n",
       "    </tr>\n",
       "    <tr>\n",
       "      <th>50%</th>\n",
       "      <td>0.000000</td>\n",
       "      <td>0.000000</td>\n",
       "      <td>0.000000</td>\n",
       "      <td>0.000000</td>\n",
       "    </tr>\n",
       "    <tr>\n",
       "      <th>75%</th>\n",
       "      <td>1.000000</td>\n",
       "      <td>0.000000</td>\n",
       "      <td>1.000000</td>\n",
       "      <td>1.000000</td>\n",
       "    </tr>\n",
       "    <tr>\n",
       "      <th>max</th>\n",
       "      <td>1.000000</td>\n",
       "      <td>1.000000</td>\n",
       "      <td>1.000000</td>\n",
       "      <td>1.000000</td>\n",
       "    </tr>\n",
       "  </tbody>\n",
       "</table>\n",
       "</div>"
      ],
      "text/plain": [
       "           healthy  multiple_diseases         rust         scab\n",
       "count  1821.000000        1821.000000  1821.000000  1821.000000\n",
       "mean      0.283361           0.049973     0.341571     0.325096\n",
       "std       0.450754           0.217948     0.474367     0.468539\n",
       "min       0.000000           0.000000     0.000000     0.000000\n",
       "25%       0.000000           0.000000     0.000000     0.000000\n",
       "50%       0.000000           0.000000     0.000000     0.000000\n",
       "75%       1.000000           0.000000     1.000000     1.000000\n",
       "max       1.000000           1.000000     1.000000     1.000000"
      ]
     },
     "execution_count": 3,
     "metadata": {},
     "output_type": "execute_result"
    }
   ],
   "source": [
    "quantity = train_info.describe()\n",
    "quantity"
   ]
  },
  {
   "cell_type": "code",
   "execution_count": 4,
   "id": "af0478b3",
   "metadata": {},
   "outputs": [
    {
     "data": {
      "text/plain": [
       "array([1.20542636, 6.83516484, 1.        , 1.05067568])"
      ]
     },
     "execution_count": 4,
     "metadata": {},
     "output_type": "execute_result"
    }
   ],
   "source": [
    "class_weight = (quantity.loc['mean'].max() / quantity.loc['mean']).values\n",
    "class_weight"
   ]
  },
  {
   "cell_type": "code",
   "execution_count": 5,
   "id": "24f99374",
   "metadata": {},
   "outputs": [],
   "source": [
    "id_images = train_info['image_id'].values\n",
    "labels = train_info.iloc[:, 1:].values\n",
    "labels = labels.argmax(axis = 1)"
   ]
  },
  {
   "cell_type": "code",
   "execution_count": 6,
   "id": "55b932cb",
   "metadata": {},
   "outputs": [],
   "source": [
    "import torch\n",
    "import torch.nn as nn\n",
    "from torch.utils.data import DataLoader, Dataset\n",
    "import torchvision.transforms as transforms\n",
    "from torchvision import models"
   ]
  },
  {
   "cell_type": "code",
   "execution_count": 7,
   "id": "f1e92fb3",
   "metadata": {},
   "outputs": [],
   "source": [
    "image_path = './images'\n",
    "transform = transforms.Compose([\n",
    "    transforms.ToTensor(),\n",
    "    transforms.Resize((320, 512))\n",
    "])\n",
    "\n",
    "augment = transforms.RandomApply(transforms = [transforms.GaussianBlur(11),\n",
    "                                         transforms.RandomPerspective(),\n",
    "                                         transforms.RandomRotation(degrees=(0, 180)),\n",
    "                                         transforms.RandomAutocontrast(),\n",
    "                                         transforms.RandomHorizontalFlip(),\n",
    "                                         transforms.RandomVerticalFlip()])\n",
    "\n",
    "class PurePlantDataset(Dataset):\n",
    "    def __init__(self, ids, labels, transform, augment = None):\n",
    "        \n",
    "        super(PurePlantDataset, self).__init__()\n",
    "        self.cache = {}\n",
    "        self.transform = transform\n",
    "        self.augment = augment\n",
    "        self.ids = ids\n",
    "        self.labels = labels\n",
    "    \n",
    "    def __len__(self):\n",
    "        return len(self.ids)\n",
    "    \n",
    "    def __getitem__(self, index):\n",
    "        image = self.cache.get(index, None)\n",
    "        if image == None:\n",
    "            image_name = os.path.join(image_path, self.ids[index] + '.jpg')\n",
    "            image = Image.open(image_name)\n",
    "            image = self.transform(image)\n",
    "            self.cache[index] = image\n",
    "        \n",
    "        if self.augment != None:\n",
    "            return self.augment(image), self.labels[index]\n",
    "        return image, self.labels[index]"
   ]
  },
  {
   "cell_type": "code",
   "execution_count": 8,
   "id": "997c2316",
   "metadata": {
    "scrolled": false
   },
   "outputs": [],
   "source": [
    "class Identity(nn.Module):\n",
    "    def __init__(self):\n",
    "        super(Identity, self).__init__()\n",
    "    def forward(self, X):\n",
    "        return X\n",
    "\n",
    "class ResnetModel(nn.Module):\n",
    "    def __init__(self, backbone, n_class):\n",
    "        super(ResnetModel, self).__init__()\n",
    "        if backbone == 'resnet50':\n",
    "            self.backbone = models.resnet50(pretrained=True)\n",
    "        elif backbone == 'resnet101':\n",
    "            self.backbone = models.resnet101(pretrained=True)\n",
    "        elif backbone == 'resnet152':\n",
    "            self.backbone = models.resnet152(pretrained=True)\n",
    "        in_features = self.backbone.fc.in_features\n",
    "        self.backbone.fc = Identity()\n",
    "        \n",
    "        self.fc = nn.Linear(in_features, n_class)\n",
    "    def forward(self, X):\n",
    "        out = self.backbone(X)\n",
    "        return self.fc(out)"
   ]
  },
  {
   "cell_type": "code",
   "execution_count": 9,
   "id": "6d32f48f",
   "metadata": {},
   "outputs": [],
   "source": [
    "# resnet50: 730M\n",
    "# resnet101: 784M\n",
    "# resnet152: 856M"
   ]
  },
  {
   "cell_type": "code",
   "execution_count": 10,
   "id": "9d4e9dbe",
   "metadata": {},
   "outputs": [],
   "source": [
    "n_epoch = 3\n",
    "lr = 1e-3\n",
    "batch_size = 16\n",
    "display_step = 10\n",
    "n_fold = 5\n",
    "global_device = 'cuda' if torch.cuda.is_available() else 'cpu'"
   ]
  },
  {
   "cell_type": "markdown",
   "id": "6048775c",
   "metadata": {},
   "source": [
    "### Freeze backbone"
   ]
  },
  {
   "cell_type": "code",
   "execution_count": 11,
   "id": "3bb6b6e8",
   "metadata": {},
   "outputs": [],
   "source": [
    "def get_accuracy(logit, y_truth):\n",
    "    logit = torch.softmax(logit, dim = 1)\n",
    "    y_predict = logit.argmax(dim = 1)\n",
    "    return torch.sum(y_predict == y_truth) / len(y_truth)\n",
    "\n",
    "def evaluate(model, criterion, test_loader):\n",
    "    with torch.no_grad():\n",
    "        losses = []\n",
    "        accs = []\n",
    "        for X, Y in test_loader:\n",
    "            X = X.to(device = global_device)\n",
    "            Y = Y.to(device = global_device)\n",
    "            out = model(X)\n",
    "            loss = criterion(out.detach(), Y)\n",
    "            acc = get_accuracy(out.detach(), Y)\n",
    "            \n",
    "            losses.append(loss.item())\n",
    "            accs.append(acc.item())\n",
    "        return sum(losses)/len(losses), sum(accs)/len(accs)"
   ]
  },
  {
   "cell_type": "code",
   "execution_count": null,
   "id": "5c6fdaee",
   "metadata": {
    "scrolled": true
   },
   "outputs": [
    {
     "name": "stdout",
     "output_type": "stream",
     "text": [
      "Train in fold 0\n",
      "Train epoch 0/3...\n"
     ]
    },
    {
     "data": {
      "application/vnd.jupyter.widget-view+json": {
       "model_id": "2359b433b0174250baf89d29cb4c64f3",
       "version_major": 2,
       "version_minor": 0
      },
      "text/plain": [
       "  0%|          | 0/91 [00:00<?, ?it/s]"
      ]
     },
     "metadata": {},
     "output_type": "display_data"
    },
    {
     "name": "stderr",
     "output_type": "stream",
     "text": [
      "/home/pqhuy/anaconda3/lib/python3.8/site-packages/torchvision/transforms/functional.py:565: UserWarning: torch.lstsq is deprecated in favor of torch.linalg.lstsq and will be removed in a future PyTorch release.\n",
      "torch.linalg.lstsq has reversed arguments and does not return the QR decomposition in the returned tuple (although it returns other information about the problem).\n",
      "To get the qr decomposition consider using torch.linalg.qr.\n",
      "The returned solution in torch.lstsq stored the residuals of the solution in the last m - n columns of the returned value whenever m > n. In torch.linalg.lstsq, the residuals in the field 'residuals' of the returned named tuple.\n",
      "The unpacking of the solution, as in\n",
      "X, _ = torch.lstsq(B, A).solution[:A.size(1)]\n",
      "should be replaced with\n",
      "X = torch.linalg.lstsq(A, B).solution (Triggered internally at  /pytorch/aten/src/ATen/LegacyTHFunctionsCPU.cpp:389.)\n",
      "  res = torch.lstsq(b_matrix, a_matrix)[0]\n",
      "/home/pqhuy/anaconda3/lib/python3.8/site-packages/torch/nn/functional.py:718: UserWarning: Named tensors and all their associated APIs are an experimental feature and subject to change. Please do not use them for anything important until they are released as stable. (Triggered internally at  /pytorch/c10/core/TensorImpl.h:1156.)\n",
      "  return torch.max_pool2d(input, kernel_size, stride, padding, dilation, ceil_mode)\n"
     ]
    },
    {
     "name": "stdout",
     "output_type": "stream",
     "text": [
      "Train loss 1.3725 accuray 0.4279. Val loss 0.9864 accuracy 0.7502\n",
      "Save---\n",
      "Train epoch 1/3...\n"
     ]
    },
    {
     "data": {
      "application/vnd.jupyter.widget-view+json": {
       "model_id": "79e4b1cc4a9f490ab23cf33a5731fe72",
       "version_major": 2,
       "version_minor": 0
      },
      "text/plain": [
       "  0%|          | 0/91 [00:00<?, ?it/s]"
      ]
     },
     "metadata": {},
     "output_type": "display_data"
    },
    {
     "name": "stdout",
     "output_type": "stream",
     "text": [
      "Train loss 1.0268 accuray 0.6676. Val loss 0.8124 accuracy 0.7855\n",
      "Save---\n",
      "Train epoch 2/3...\n"
     ]
    },
    {
     "data": {
      "application/vnd.jupyter.widget-view+json": {
       "model_id": "7cf741d5d5d7498fa4f6bc86dae1b558",
       "version_major": 2,
       "version_minor": 0
      },
      "text/plain": [
       "  0%|          | 0/91 [00:00<?, ?it/s]"
      ]
     },
     "metadata": {},
     "output_type": "display_data"
    },
    {
     "name": "stdout",
     "output_type": "stream",
     "text": [
      "Train loss 0.9349 accuray 0.7040. Val loss 0.8959 accuracy 0.8046\n",
      "Save---\n",
      "Train in fold 1\n",
      "Train epoch 0/3...\n"
     ]
    },
    {
     "data": {
      "application/vnd.jupyter.widget-view+json": {
       "model_id": "3516ac47820846efae3fb8f5cc04472f",
       "version_major": 2,
       "version_minor": 0
      },
      "text/plain": [
       "  0%|          | 0/92 [00:00<?, ?it/s]"
      ]
     },
     "metadata": {},
     "output_type": "display_data"
    },
    {
     "name": "stdout",
     "output_type": "stream",
     "text": [
      "Train loss 1.3157 accuray 0.4728. Val loss 0.9517 accuracy 0.7464\n",
      "Train epoch 1/3...\n"
     ]
    },
    {
     "data": {
      "application/vnd.jupyter.widget-view+json": {
       "model_id": "dd1f5776dc144ae89d1b32e97df2abe6",
       "version_major": 2,
       "version_minor": 0
      },
      "text/plain": [
       "  0%|          | 0/92 [00:00<?, ?it/s]"
      ]
     },
     "metadata": {},
     "output_type": "display_data"
    },
    {
     "name": "stdout",
     "output_type": "stream",
     "text": [
      "Train loss 1.1133 accuray 0.5944. Val loss 0.8880 accuracy 0.6893\n",
      "Train epoch 2/3...\n"
     ]
    },
    {
     "data": {
      "application/vnd.jupyter.widget-view+json": {
       "model_id": "9230e048834142fd94a5109d9210096e",
       "version_major": 2,
       "version_minor": 0
      },
      "text/plain": [
       "  0%|          | 0/92 [00:00<?, ?it/s]"
      ]
     },
     "metadata": {},
     "output_type": "display_data"
    },
    {
     "name": "stdout",
     "output_type": "stream",
     "text": [
      "Train loss 0.9878 accuray 0.6569. Val loss 0.7201 accuracy 0.7545\n",
      "Train in fold 2\n",
      "Train epoch 0/3...\n"
     ]
    },
    {
     "data": {
      "application/vnd.jupyter.widget-view+json": {
       "model_id": "ad3c454ba9b64771a43d41b03b07489a",
       "version_major": 2,
       "version_minor": 0
      },
      "text/plain": [
       "  0%|          | 0/92 [00:00<?, ?it/s]"
      ]
     },
     "metadata": {},
     "output_type": "display_data"
    }
   ],
   "source": [
    "from tqdm.auto import tqdm\n",
    "from sklearn.model_selection import StratifiedKFold\n",
    "spliter = StratifiedKFold(n_splits=n_fold, shuffle=True)\n",
    "\n",
    "best_score = 0\n",
    "for i, (train_idx, val_idx) in enumerate(spliter.split(id_images, labels)):\n",
    "    print(f\"Train in fold {i}\")\n",
    "    train_data = PurePlantDataset(ids=id_images[train_idx], \n",
    "                                  labels = labels[train_idx], \n",
    "                                  transform = transform, \n",
    "                                  augment = augment)\n",
    "    val_data = PurePlantDataset(ids=id_images[val_idx], \n",
    "                                  labels = labels[val_idx], \n",
    "                                  transform = transform)\n",
    "    train_loader = DataLoader(train_data, batch_size=batch_size, shuffle=True)\n",
    "    val_loader = DataLoader(val_data, batch_size=batch_size)\n",
    "    \n",
    "    model = ResnetModel('resnet50', 4)\n",
    "    model.to(device = global_device)\n",
    "    for param in model.backbone.parameters():\n",
    "        param.requires_grad = False\n",
    "\n",
    "    opt_param = [param for param in model.parameters() if param.requires_grad == True]\n",
    "    optimizer = torch.optim.Adam(params=opt_param, lr=lr)\n",
    "    \n",
    "    criterion = nn.CrossEntropyLoss(weight=torch.tensor(class_weight, dtype=torch.float, device=global_device))\n",
    "    \n",
    "    for epoch in range(n_epoch):\n",
    "        print(f\"Train epoch {epoch}/{n_epoch}...\")\n",
    "        total_loss = []\n",
    "        total_acc = []\n",
    "        \n",
    "        model.train()\n",
    "        for X, Y in tqdm(train_loader):\n",
    "            optimizer.zero_grad()\n",
    "            X = X.to(device = global_device)\n",
    "            Y = Y.to(device = global_device)\n",
    "            out = model(X)\n",
    "            loss = criterion(out, Y)\n",
    "            loss.backward()\n",
    "            optimizer.step()\n",
    "            \n",
    "            total_loss.append(loss.item())\n",
    "            acc = get_accuracy(out.detach(), Y)\n",
    "            total_acc.append(acc.item())\n",
    "        \n",
    "        model.eval()\n",
    "        avg_train_loss = sum(total_loss) / len(total_loss)\n",
    "        avg_train_acc = sum(total_acc) / len(total_acc)\n",
    "        val_loss, val_acc = evaluate(model, criterion, val_loader)\n",
    "        print(f\"Train loss {avg_train_loss:.4f} accuray {avg_train_acc:.4f}. Val loss {val_loss:.4f} accuracy {val_acc:.4f}\")\n",
    "        \n",
    "        if val_acc > best_score:\n",
    "            torch.save({\n",
    "                'model': model.state_dict(),\n",
    "                'optimizer': optimizer.state_dict()\n",
    "            }, 'model_resnet50.pt')\n",
    "            best_score = val_acc\n",
    "            print(\"Save---\")"
   ]
  },
  {
   "cell_type": "code",
   "execution_count": 14,
   "id": "dee6027f",
   "metadata": {},
   "outputs": [
    {
     "data": {
      "text/plain": [
       "(0.5034340659340659, 1.2618202488500994)"
      ]
     },
     "execution_count": 14,
     "metadata": {},
     "output_type": "execute_result"
    }
   ],
   "source": []
  }
 ],
 "metadata": {
  "kernelspec": {
   "display_name": "Python 3",
   "language": "python",
   "name": "python3"
  },
  "language_info": {
   "codemirror_mode": {
    "name": "ipython",
    "version": 3
   },
   "file_extension": ".py",
   "mimetype": "text/x-python",
   "name": "python",
   "nbconvert_exporter": "python",
   "pygments_lexer": "ipython3",
   "version": "3.8.5"
  }
 },
 "nbformat": 4,
 "nbformat_minor": 5
}
